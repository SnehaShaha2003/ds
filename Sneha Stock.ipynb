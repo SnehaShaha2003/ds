{
  "metadata": {
    "language_info": {
      "codemirror_mode": {
        "name": "python",
        "version": 3
      },
      "file_extension": ".py",
      "mimetype": "text/x-python",
      "name": "python",
      "nbconvert_exporter": "python",
      "pygments_lexer": "ipython3",
      "version": "3.8"
    },
    "kernelspec": {
      "name": "python",
      "display_name": "Python (Pyodide)",
      "language": "python"
    }
  },
  "nbformat_minor": 4,
  "nbformat": 4,
  "cells": [
    {
      "cell_type": "code",
      "source": "import numpy as np\nimport pandas as pd\nimport matplotlib.pyplot as plt\nfrom sklearn.preprocessing import MinMaxScaler\nfrom tensorflow.keras.models import Sequential\nfrom tensorflow.keras.layers import LSTM, Dense, Dropout\nfrom tensorflow.keras.optimizers import Adam\n",
      "metadata": {},
      "execution_count": null,
      "outputs": []
    },
    {
      "cell_type": "code",
      "source": "\n# Load the stock price data\nstock_data = pd.read_csv(\"GOOG_stock.csv\")\nstock_data['Date'] = pd.to_datetime(stock_data['Date'])\nstock_data.set_index('Date', inplace=True)\n\n# Use only the 'Close' price for prediction\ndata = stock_data[['Close']].values\n\n# Normalize the data\nscaler = MinMaxScaler()\ndata_scaled = scaler.fit_transform(data)\n",
      "metadata": {},
      "execution_count": null,
      "outputs": []
    },
    {
      "cell_type": "code",
      "source": "\n# Prepare data for LSTM\nsequence_length = 14  # Number of time steps to look back\nX = []\ny = []\nfor i in range(len(data_scaled) - sequence_length):\n    X.append(data_scaled[i:i+sequence_length])\n    y.append(data_scaled[i+sequence_length])\nX = np.array(X)\ny = np.array(y)\n\n# Split the data into training and testing sets\ntrain_size = int(0.8 * len(X))\nX_train, X_test = X[:train_size], X[train_size:]\ny_train, y_test = y[:train_size], y[train_size:]\n",
      "metadata": {},
      "execution_count": null,
      "outputs": []
    },
    {
      "cell_type": "code",
      "source": "\n# Build the LSTM model\nmodel = Sequential()\nmodel.add(LSTM(64, return_sequences=True, input_shape=(X_train.shape[1], X_train.shape[2])))\nmodel.add(LSTM(64, return_sequences=False))\nmodel.add(Dense(1))\nmodel.compile(optimizer=Adam(), loss='mean_squared_error')\n\n# Train the model\nmodel.fit(X_train, y_train, batch_size=128, epochs=80, validation_data=(X_test, y_test))\n\n# Make predictions\npredicted = model.predict(X_test)\npredicted = scaler.inverse_transform(predicted)\n",
      "metadata": {},
      "execution_count": null,
      "outputs": []
    },
    {
      "cell_type": "code",
      "source": "\n# Plot the results\nplt.figure(figsize=(12, 6))\nplt.plot(stock_data.index[train_size+sequence_length:], stock_data['Close'][train_size+sequence_length:], label='Actual')\nplt.plot(stock_data.index[train_size+sequence_length:], predicted, label='Predicted')\nplt.legend()\nplt.xlabel('Date')\nplt.ylabel('Stock Price')\nplt.title('GOOG Stock Price Prediction')\nplt.show()",
      "metadata": {},
      "execution_count": null,
      "outputs": []
    }
  ]
}